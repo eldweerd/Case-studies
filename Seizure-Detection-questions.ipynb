{
 "cells": [
  {
   "cell_type": "markdown",
   "metadata": {},
   "source": [
    "# Q&A Seizure Detection project"
   ]
  },
  {
   "cell_type": "code",
   "execution_count": 2,
   "metadata": {},
   "outputs": [
    {
     "name": "stdout",
     "output_type": "stream",
     "text": [
      "Automatically created module for IPython interactive environment\n"
     ]
    }
   ],
   "source": [
    "import os\n",
    "import os.path as op\n",
    "\n",
    "from download import download\n",
    "\n",
    "import numpy as np\n",
    "import pandas as pd\n",
    "import matplotlib.pyplot as plt\n",
    "\n",
    "from sklearn.ensemble import RandomForestClassifier\n",
    "from sklearn.neighbors import KNeighborsClassifier\n",
    "from sklearn.neural_network import MLPClassifier\n",
    "from sklearn.naive_bayes import GaussianNB\n",
    "from sklearn.svm import SVC\n",
    "from sklearn.model_selection import StratifiedKFold, cross_val_score\n",
    "from sklearn.pipeline import Pipeline\n",
    "from sklearn.model_selection import train_test_split\n",
    "from sklearn.metrics import plot_confusion_matrix\n",
    "from sklearn.metrics import roc_curve,auc\n",
    "from sklearn.metrics import classification_report\n",
    "\n",
    "from mne_features.feature_extraction import FeatureExtractor\n",
    "\n",
    "print(__doc__)"
   ]
  },
  {
   "cell_type": "code",
   "execution_count": 3,
   "metadata": {},
   "outputs": [],
   "source": [
    "def download_bonn_ieeg(path, verbose=False):\n",
    "    base_url = 'http://epileptologie-bonn.de/cms/upload/workgroup/lehnertz/'\n",
    "    urls = [('setC', 'N.zip'), ('setD', 'F.zip'), ('setE', 'S.zip')]\n",
    "    paths = list()\n",
    "    for set_name, url_suffix in urls:\n",
    "        _path = download(op.join(base_url, url_suffix),\n",
    "                         op.join(path, set_name), kind='zip', replace=False,\n",
    "                         verbose=verbose)\n",
    "        paths.append(_path)\n",
    "    return paths\n",
    "\n",
    "\n",
    "# Download the data to ``./bonn_data``:\n",
    "paths = download_bonn_ieeg('./bonn_data')"
   ]
  },
  {
   "cell_type": "markdown",
   "metadata": {},
   "source": [
    "### Question 1\n",
    "\n",
    "You used the full length of the segments for your classification, and the results are indeed satisfactory. Now, in a real life application we might be interested in an algorithm detecting the onset of the seizure as soon as possible, in order for example to trigger a therapeutic intervention (electrical stimulation, drug delivery, etc). In this case we would also want to minimize false positives of course. Which method would be the best for segments as short as 200 points (slightly more than one second)?"
   ]
  },
  {
   "cell_type": "markdown",
   "metadata": {},
   "source": [
    "First, I shortened the segments so that they only contained 200 points"
   ]
  },
  {
   "cell_type": "code",
   "execution_count": 15,
   "metadata": {},
   "outputs": [
    {
     "name": "stdout",
     "output_type": "stream",
     "text": [
      "(300, 1, 200)\n",
      "(300,)\n"
     ]
    }
   ],
   "source": [
    "data_segments = list()\n",
    "labels = list()\n",
    "sfreq = 173.61\n",
    "for path in paths:\n",
    "    fnames = [s for s in os.listdir(path) if s.lower().endswith('.txt')]\n",
    "    for fname in fnames:\n",
    "        _data = pd.read_csv(op.join(path, fname), sep='\\n', header=None)\n",
    "        data_segments.append(_data.values.T[None, ..., 0:200])\n",
    "    if 'setE' in path: # Then, it's seizure data\n",
    "        labels.append(np.ones((len(fnames),)))\n",
    "    else:\n",
    "        labels.append(np.zeros((len(fnames),)))\n",
    "        \n",
    "data = np.concatenate(data_segments)\n",
    "y = np.concatenate(labels, axis=0) \n",
    "\n",
    "# Shape of extracted data:\n",
    "print(data.shape) # 300 recordings of 4097 datapoints\n",
    "print(y.shape) # Label for each recording"
   ]
  },
  {
   "cell_type": "markdown",
   "metadata": {},
   "source": [
    "Second, I tested the performance of the four classifiers on the shortened (200 points) dataset"
   ]
  },
  {
   "cell_type": "code",
   "execution_count": 16,
   "metadata": {},
   "outputs": [],
   "source": [
    "selected_funcs = ['line_length', 'kurtosis', 'ptp_amp', 'skewness']\n",
    "\n",
    "skf = StratifiedKFold(n_splits=5)\n",
    "seed = 26\n",
    "\n",
    "names = ['Random Forest','K-Nearest Neighbours','Naive Bayes','Support Vector Machine']\n",
    "classifiers = [RandomForestClassifier(n_estimators=100,max_depth=4,random_state=seed),KNeighborsClassifier(n_neighbors=10),GaussianNB(),SVC(kernel=\"linear\",C=0.025,random_state=seed)]\n"
   ]
  },
  {
   "cell_type": "code",
   "execution_count": 18,
   "metadata": {},
   "outputs": [
    {
     "name": "stdout",
     "output_type": "stream",
     "text": [
      "=====================================================\n",
      "Random Forest\n",
      "scores = [0.9667, 0.9333, 0.95, 0.95, 0.9333]\n",
      "Cross-validation accuracy score = 0.947 (+/- 0.01247)\n",
      "=====================================================\n",
      "K-Nearest Neighbours\n",
      "scores = [0.9167, 0.85, 0.8667, 0.8667, 0.8833]\n",
      "Cross-validation accuracy score = 0.877 (+/- 0.02261)\n",
      "=====================================================\n",
      "Naive Bayes\n",
      "scores = [0.95, 0.9333, 0.8833, 0.9333, 0.9333]\n",
      "Cross-validation accuracy score = 0.927 (+/- 0.02261)\n",
      "=====================================================\n",
      "Support Vector Machine\n",
      "scores = [0.9667, 0.9, 0.9167, 0.9167, 0.9333]\n",
      "Cross-validation accuracy score = 0.927 (+/- 0.02261)\n",
      "=====================================================\n"
     ]
    }
   ],
   "source": [
    "for i in range(len(names)):\n",
    "    pipe = Pipeline([('fe', FeatureExtractor(sfreq=sfreq,selected_funcs=selected_funcs)),('clf', classifiers[i])])\n",
    "    scores = cross_val_score(pipe, data, y, cv=skf)\n",
    "    print('=====================================================')\n",
    "    print(names[i])\n",
    "    print('scores =',list(np.around(np.array(scores),4)))\n",
    "    print('Cross-validation accuracy score = %1.3f (+/- %1.5f)' % (np.mean(scores),np.std(scores)))\n",
    "print('=====================================================')"
   ]
  },
  {
   "cell_type": "markdown",
   "metadata": {},
   "source": [
    "The results showed that the Support Vector Machine wasn't the best method anymore. The Random forest classifier, however, obtained the best results for the shortened dataset. To confirm this, I also checked the confusion matrices."
   ]
  },
  {
   "cell_type": "code",
   "execution_count": 23,
   "metadata": {},
   "outputs": [
    {
     "data": {
      "image/png": "[encoded data removed]",
      "text/plain": [
       "<Figure size 1080x720 with 8 Axes>"
      ]
     },
     "metadata": {
      "needs_background": "light"
     },
     "output_type": "display_data"
    }
   ],
   "source": [
    "X_train, X_test, y_train, y_test = train_test_split(data, y, test_size=0.2, random_state=seed)\n",
    "fig, axes = plt.subplots(nrows=2, ncols=2, figsize=(15,10))\n",
    "\n",
    "for clf,ax,name in zip(classifiers, axes.flatten(),names):\n",
    "    pipe = Pipeline([('fe', FeatureExtractor(sfreq=sfreq,selected_funcs=selected_funcs)),('clf', clf)])\n",
    "    pipe.fit(X_train,y_train)\n",
    "\n",
    "    plot_confusion_matrix(pipe, X_test, y_test,\n",
    "                        display_labels=['Seizure','Seizure-free'],\n",
    "                        cmap=plt.cm.Blues,\n",
    "                        normalize='true',ax=ax)\n",
    "    ax.title.set_text(name)\n",
    "plt.show()"
   ]
  },
  {
   "cell_type": "markdown",
   "metadata": {},
   "source": [
    "In this comparison, the RF classifier doesn't have the highest accuracy. However, it has the lowest False Positive rate. This is very important in an application like this, because we don't want a system that constantly injects a drug or uses electric stimulation when it isn't necessary. "
   ]
  },
  {
   "cell_type": "markdown",
   "metadata": {},
   "source": [
    "### Question 2\n",
    "\n",
    "Why did you choose the four indicated features? Which of these is the most effective taken by itself, according to you?"
   ]
  },
  {
   "cell_type": "markdown",
   "metadata": {},
   "source": [
    "The four features were chosen based on a seizure detection example. The example showed how MNE-Features could be used to design an efficient seizure detection algorithm. See: https://mne.tools/mne-features/auto_examples/plot_seizure_example.html. \n",
    "\n",
    "First, I compared the effectiveness of these features by 1) training all classifiers on each of them separately and 2) calculating the average score of each feature."
   ]
  },
  {
   "cell_type": "code",
   "execution_count": 25,
   "metadata": {},
   "outputs": [],
   "source": [
    "selected_funcs = ['line_length', 'kurtosis', 'ptp_amp', 'skewness']\n",
    "\n",
    "skf = StratifiedKFold(n_splits=5)\n",
    "seed = 26\n",
    "\n",
    "names = ['Random Forest','K-Nearest Neighbours','Naive Bayes','Support Vector Machine']\n",
    "classifiers = [RandomForestClassifier(n_estimators=100,max_depth=4,random_state=seed),KNeighborsClassifier(n_neighbors=10),GaussianNB(),SVC(kernel=\"linear\",C=0.025,random_state=seed)]\n"
   ]
  },
  {
   "cell_type": "code",
   "execution_count": 32,
   "metadata": {},
   "outputs": [
    {
     "name": "stdout",
     "output_type": "stream",
     "text": [
      "=====================================================\n",
      "Feature used: line_length\n",
      "Average cross-validation accuracy score = 0.933 (+/- 0.02005)\n",
      "=====================================================\n",
      "Feature used: kurtosis\n",
      "Average cross-validation accuracy score = 0.683 (+/- 0.02687)\n",
      "=====================================================\n",
      "Feature used: ptp_amp\n",
      "Average cross-validation accuracy score = 0.892 (+/- 0.02861)\n",
      "=====================================================\n",
      "Feature used: skewness\n",
      "Average cross-validation accuracy score = 0.664 (+/- 0.03174)\n",
      "=====================================================\n"
     ]
    }
   ],
   "source": [
    "for j in range(len(selected_funcs)):\n",
    "    scores=[]\n",
    "    for i in range(len(names)):\n",
    "        pipe = Pipeline([('fe', FeatureExtractor(sfreq=sfreq,selected_funcs=[selected_funcs[j]])),('clf', classifiers[i])])\n",
    "        scores.append(cross_val_score(pipe, data, y, cv=skf))\n",
    "    print('=====================================================')\n",
    "    print('Feature used:',selected_funcs[j])   \n",
    "    print('Average cross-validation accuracy score = %1.3f (+/- %1.5f)' % (np.mean(scores),np.std(scores)))\n",
    "print('=====================================================')"
   ]
  },
  {
   "cell_type": "markdown",
   "metadata": {},
   "source": [
    "The results showed that out of all features, line_length was the most useful feature for seizure onset detection. This is in line with previous research of Esteller and colleagues (2001). The authors evaluated this feature over iEEG signals from 10 patients and found that line_length was a useful and efficient feature for this task. \n",
    "\n",
    "Esteller, R., Echauz, J., Tcheng, T., Litt, B., & Pless, B. (2001, October). Line length: an efficient feature for seizure onset detection. In 2001 Conference Proceedings of the 23rd Annual International Conference of the IEEE Engineering in Medicine and Biology Society (Vol. 2, pp. 1707-1710). IEEE.)"
   ]
  }
 ],
 "metadata": {
  "kernelspec": {
   "display_name": "Python 3",
   "language": "python",
   "name": "python3"
  },
  "language_info": {
   "codemirror_mode": {
    "name": "ipython",
    "version": 3
   },
   "file_extension": ".py",
   "mimetype": "text/x-python",
   "name": "python",
   "nbconvert_exporter": "python",
   "pygments_lexer": "ipython3",
   "version": "3.7.6"
  }
 },
 "nbformat": 4,
 "nbformat_minor": 4
}
